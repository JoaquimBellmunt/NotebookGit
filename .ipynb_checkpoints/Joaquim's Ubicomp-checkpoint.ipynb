{
 "cells": [
  {
   "cell_type": "markdown",
   "metadata": {},
   "source": [
    "# Quality of life, MCI metrics"
   ]
  },
  {
   "cell_type": "markdown",
   "metadata": {},
   "source": [
    "## Measure change of life behaviours\n",
    "\n",
    "* Activities of Daily Living\n",
    "* Mobility\n",
    "* Sociability\n",
    "* *Cognition* (not measured)"
   ]
  },
  {
   "cell_type": "code",
   "execution_count": 1,
   "metadata": {
    "collapsed": true
   },
   "outputs": [],
   "source": [
    "%load_ext autoreload\n",
    "%autoreload 2"
   ]
  },
  {
   "cell_type": "code",
   "execution_count": null,
   "metadata": {
    "collapsed": true
   },
   "outputs": [],
   "source": [
    "import sys\n",
    "sys.path.append('reasoning')"
   ]
  },
  {
   "cell_type": "code",
   "execution_count": 6,
   "metadata": {
    "collapsed": false
   },
   "outputs": [
    {
     "ename": "ImportError",
     "evalue": "No module named reasoning.presets.dataset",
     "output_type": "error",
     "traceback": [
      "\u001b[0;31m---------------------------------------------------------------------------\u001b[0m",
      "\u001b[0;31mImportError\u001b[0m                               Traceback (most recent call last)",
      "\u001b[0;32m<ipython-input-6-8c86c3133729>\u001b[0m in \u001b[0;36m<module>\u001b[0;34m()\u001b[0m\n\u001b[1;32m      2\u001b[0m \u001b[0msys\u001b[0m\u001b[0;34m.\u001b[0m\u001b[0mpath\u001b[0m\u001b[0;34m.\u001b[0m\u001b[0mappend\u001b[0m\u001b[0;34m(\u001b[0m\u001b[0;34m'Reasoning'\u001b[0m\u001b[0;34m)\u001b[0m\u001b[0;34m\u001b[0m\u001b[0m\n\u001b[1;32m      3\u001b[0m \u001b[0;34m\u001b[0m\u001b[0m\n\u001b[0;32m----> 4\u001b[0;31m \u001b[0;32mfrom\u001b[0m \u001b[0mreasoning\u001b[0m\u001b[0;34m.\u001b[0m\u001b[0mpresets\u001b[0m\u001b[0;34m.\u001b[0m\u001b[0mdataset\u001b[0m \u001b[0;32mimport\u001b[0m \u001b[0mload_default_datasets\u001b[0m\u001b[0;34m\u001b[0m\u001b[0m\n\u001b[0m",
      "\u001b[0;31mImportError\u001b[0m: No module named reasoning.presets.dataset"
     ]
    }
   ],
   "source": [
    "from reasoning.presets.dataset import load_default_datasets"
   ]
  },
  {
   "cell_type": "code",
   "execution_count": null,
   "metadata": {
    "collapsed": true
   },
   "outputs": [],
   "source": [
    "import pandas as pd\n",
    "import numpy as np\n",
    "\n",
    "from bokeh.plotting import output_notebook\n",
    "\n",
    "from reasoning.data_analysis.data_viz import plot\n",
    "from reasoning.data_analysis.update_csv import full_csv_update\n",
    "from reasoning.data_analysis.data_toolbox import load_activities, load_events, load_groundtruth\n",
    "from reasoning.presets.dataset import load_default_datasets\n",
    "\n",
    "from datetime import timedelta\n",
    "\n",
    "output_notebook()"
   ]
  },
  {
   "cell_type": "code",
   "execution_count": null,
   "metadata": {
    "collapsed": true
   },
   "outputs": [],
   "source": [
    "# events, activities, groundtruth = load_default_datasets(update_csv_files=True)\n",
    "\n",
    "path_to_dataset_E = '../new_dataset/Dataset-Extend'\n",
    "path_to_dataset_N = '../new_dataset/Dataset-Normandie'\n",
    "\n",
    "events, activities = load_default_datasets(update_csv_files=False,\n",
    "                    path=path_to_dataset_N,\n",
    "                    event_dataset='public.event.csv',\n",
    "                    activity_dataset='public.activity.csv',\n",
    "                    delim=';',\n",
    "                    patients='N')"
   ]
  },
  {
   "cell_type": "code",
   "execution_count": null,
   "metadata": {
    "collapsed": true
   },
   "outputs": [],
   "source": [
    "events.head()"
   ]
  },
  {
   "cell_type": "code",
   "execution_count": null,
   "metadata": {
    "collapsed": true
   },
   "outputs": [],
   "source": [
    "events.head()"
   ]
  },
  {
   "cell_type": "markdown",
   "metadata": {},
   "source": [
    "## Energy rate"
   ]
  },
  {
   "cell_type": "code",
   "execution_count": null,
   "metadata": {
    "collapsed": true,
    "scrolled": true
   },
   "outputs": [],
   "source": [
    "events.reset_index(level=0, drop=True)"
   ]
  },
  {
   "cell_type": "code",
   "execution_count": null,
   "metadata": {
    "collapsed": true
   },
   "outputs": [],
   "source": [
    "events.loc['C']"
   ]
  },
  {
   "cell_type": "code",
   "execution_count": null,
   "metadata": {
    "collapsed": true,
    "scrolled": true
   },
   "outputs": [],
   "source": [
    "# TODO: Make it work as groupby\n",
    "\n",
    "def aggregate_events(events):\n",
    "    aggregated_events = events.reset_index(level=0, drop=True).value.resample('D', how='count')\n",
    "    aggregated_events = aggregated_events[aggregated_events != 0]\n",
    "    min_events, max_events = min(aggregated_events), max(aggregated_events)\n",
    "    aggregated_events = aggregated_events * 100 / max_events\n",
    "    return aggregated_events\n",
    "\n",
    "events.groupby(level=0).apply(aggregate_events)"
   ]
  },
  {
   "cell_type": "code",
   "execution_count": null,
   "metadata": {
    "collapsed": true,
    "scrolled": true
   },
   "outputs": [],
   "source": [
    "aggregated_events = events.loc['C'].value.resample('D', how='count')\n",
    "min_events, max_events = min(aggregated_events), max(aggregated_events)\n",
    "aggregated_events = aggregated_events * 100 / max_events\n",
    "aggregated_events"
   ]
  },
  {
   "cell_type": "code",
   "execution_count": null,
   "metadata": {
    "collapsed": true,
    "scrolled": true
   },
   "outputs": [],
   "source": [
    "def custom(my_day):\n",
    "    a = my_day.copy()\n",
    "    a.loc[:, 'duration'] = a.index - a.since\n",
    "    falls = a[(a.activity == \"Fall\") & (a.duration >= timedelta(minutes=5))]\n",
    "    return not falls.empty\n",
    "\n",
    "a = activities.loc['C']\n",
    "fall_per_day = a.resample('D', how=custom).activity\n",
    "fall_days = fall_per_day[fall_per_day].index"
   ]
  },
  {
   "cell_type": "code",
   "execution_count": null,
   "metadata": {
    "collapsed": true
   },
   "outputs": [],
   "source": [
    "from bokeh.plotting import figure, show\n",
    "\n",
    "p = figure(title=\"Amount of activity per day\", x_axis_label='Day', y_axis_label='Events', x_axis_type=\"datetime\",\n",
    "          tools=\"box_select,xpan,xwheel_zoom,reset,save\", height=400)\n",
    "\n",
    "p.line(aggregated_events.index, aggregated_events.values)\n",
    "p.segment(x0=fall_days, y0=5,\n",
    "          x1=fall_days + timedelta(days=1), y1=5, line_width=10, legend=\"Falls\", color='red')\n",
    "\n",
    "show(p)"
   ]
  },
  {
   "cell_type": "markdown",
   "metadata": {},
   "source": [
    "## Time outdoor / Time indoor"
   ]
  },
  {
   "cell_type": "code",
   "execution_count": null,
   "metadata": {
    "collapsed": true
   },
   "outputs": [],
   "source": [
    "activities.loc['I'].activity.unique()"
   ]
  },
  {
   "cell_type": "code",
   "execution_count": null,
   "metadata": {
    "collapsed": true,
    "scrolled": true
   },
   "outputs": [],
   "source": [
    "def outside_time_estimator(my_day):\n",
    "    outside = my_day[my_day.activity == \"Go Out\"]\n",
    "    time_spend_outside = outside.reset_index().apply(lambda x: x.date - x.since, axis=1)\n",
    "    if time_spend_outside.empty:\n",
    "        return timedelta(seconds=0)\n",
    "    return time_spend_outside.sum()\n",
    "\n",
    "a = activities.loc['J']\n",
    "time_spend_outside = a.resample(\"D\", how=outside_time_estimator).activity\n",
    "time_spend_outside\n",
    "\n",
    "max_bound = time_spend_outside[time_spend_outside != 0].quantile(.9)\n",
    "time_spend_outside.loc[time_spend_outside > max_bound] = max_bound"
   ]
  },
  {
   "cell_type": "code",
   "execution_count": null,
   "metadata": {
    "collapsed": true
   },
   "outputs": [],
   "source": [
    "from bokeh.plotting import figure, show\n",
    "\n",
    "p = figure(title=\"Time spent outside per day\", x_axis_label='Day', y_axis_label='Outside time',\n",
    "           x_axis_type=\"datetime\",\n",
    "           tools=\"box_select,xpan,xwheel_zoom,reset,save\", height=400)\n",
    "\n",
    "p.yaxis[0].formatter = NumeralTickFormatter(format=\"00:00:00\")\n",
    "\n",
    "p.line(time_spend_outside.index, (time_spend_outside / np.timedelta64(1, 's')).values)\n",
    "# p.segment(x0=fall_days, y0=5,\n",
    "#           x1=fall_days + timedelta(days=1), y1=5, line_width=10, legend=\"Falls\", color='red')\n",
    "\n",
    "show(p)"
   ]
  },
  {
   "cell_type": "markdown",
   "metadata": {},
   "source": [
    "# Time spent in bathroom"
   ]
  },
  {
   "cell_type": "code",
   "execution_count": null,
   "metadata": {
    "collapsed": true,
    "scrolled": true
   },
   "outputs": [],
   "source": [
    "from dateutil.parser import parse\n",
    "\n",
    "def toilet_duration_estimator(my_day):\n",
    "    outside = my_day[my_day.activity == \"Go Toilet\"]\n",
    "    time_spend_outside = outside.reset_index().apply(lambda x: x.date - x.since, axis=1)\n",
    "    if time_spend_outside.empty:\n",
    "        return timedelta(seconds=0)\n",
    "    return time_spend_outside.sum()\n",
    "\n",
    "def toilet_count_estimator(my_day):\n",
    "    outside = my_day[my_day.activity == \"Go Toilet\"]\n",
    "    return outside.count()\n",
    "\n",
    "a = activities.loc['J']\n",
    "duration_spend_in_toilet = a.resample(\"D\", how=toilet_duration_estimator).activity\n",
    "duration_spend_in_toilet\n",
    "\n",
    "max_bound = duration_spend_in_toilet[duration_spend_in_toilet != 0].quantile(.9)\n",
    "duration_spend_in_toilet.loc[duration_spend_in_toilet > max_bound] = max_bound\n",
    "\n",
    "toilet_occurences = a.resample(\"D\", how=toilet_count_estimator).activity\n",
    "toilet_occurences\n",
    "\n",
    "max_bound = toilet_occurences[toilet_occurences != 0].quantile(.9)\n",
    "toilet_occurences.loc[toilet_occurences > max_bound] = max_bound"
   ]
  },
  {
   "cell_type": "code",
   "execution_count": null,
   "metadata": {
    "collapsed": true
   },
   "outputs": [],
   "source": [
    "from bokeh.plotting import figure, show\n",
    "from bokeh.models import LinearAxis, Range1d\n",
    "\n",
    "from bokeh.models.formatters import NumeralTickFormatter\n",
    "\n",
    "p = figure(title=\"Time spent in toilet per day\", x_axis_label='Day', y_axis_label='Toilet time',\n",
    "           x_axis_type=\"datetime\",\n",
    "           tools=\"box_select,xpan,xwheel_zoom,reset,save\", height=400)\n",
    "\n",
    "p.yaxis[0].formatter = NumeralTickFormatter(format=\"00:00:00\")\n",
    "\n",
    "p.extra_y_ranges = {\"occurences\": Range1d(start=0, end=toilet_occurences.max())}\n",
    "p.add_layout(LinearAxis(y_range_name=\"occurences\"), 'right')\n",
    "\n",
    "p.line(duration_spend_in_toilet.index, (duration_spend_in_toilet / np.timedelta64(1, 's')).values)\n",
    "\n",
    "p.line(toilet_occurences.index, toilet_occurences.values, color=\"Red\", y_range_name=\"occurences\")\n",
    "# p.segment(x0=fall_days, y0=5,\n",
    "#           x1=fall_days + timedelta(days=1), y1=5, line_width=10, legend=\"Falls\", color='red')\n",
    "\n",
    "show(p)"
   ]
  },
  {
   "cell_type": "markdown",
   "metadata": {},
   "source": [
    "## Toilet by night"
   ]
  },
  {
   "cell_type": "code",
   "execution_count": null,
   "metadata": {
    "collapsed": true,
    "scrolled": true
   },
   "outputs": [],
   "source": [
    "hours = a.index.get_level_values('date').map(lambda x: x.hour)\n",
    "hours\n",
    "a2 = a[(hours >= 20) | (hours < 10)].copy()\n",
    "a2.loc[:, 'shifted_hours'] = a2.index.get_level_values('date') + timedelta(hours=4)\n",
    "a2.loc[:, 'since'] = a2.since + timedelta(hours=4)\n",
    "a2.reset_index(drop=True, inplace=True)\n",
    "a2.rename(columns={'shifted_hours': 'date'}, inplace=True)\n",
    "a2.set_index('date', inplace=True)\n",
    "\n",
    "max_bound = duration_spend_in_toilet[duration_spend_in_toilet != 0].quantile(.9)\n",
    "duration_spend_in_toilet.loc[duration_spend_in_toilet > max_bound] = max_bound\n",
    "\n",
    "duration_spend_in_toilet_by_night = a2.resample(\"D\", how=toilet_duration_estimator).activity\n",
    "duration_spend_in_toilet_by_night\n",
    "\n",
    "max_bound = duration_spend_in_toilet_by_night[duration_spend_in_toilet_by_night != 0].quantile(.9)\n",
    "duration_spend_in_toilet_by_night.loc[duration_spend_in_toilet_by_night > max_bound] = max_bound\n",
    "\n",
    "toilet_occurences_by_night = a2.resample(\"D\", how=toilet_count_estimator).activity\n",
    "toilet_occurences_by_night\n",
    "\n",
    "max_bound = toilet_occurences_by_night[toilet_occurences_by_night != 0].quantile(.9)\n",
    "toilet_occurences_by_night.loc[toilet_occurences_by_night > max_bound] = max_bound"
   ]
  },
  {
   "cell_type": "code",
   "execution_count": null,
   "metadata": {
    "collapsed": true
   },
   "outputs": [],
   "source": [
    "from bokeh.plotting import figure, show\n",
    "from bokeh.models import LinearAxis, Range1d\n",
    "\n",
    "p = figure(title=\"Time spent in toilet per night\", x_axis_label='Day', y_axis_label='Toilet time',\n",
    "           x_axis_type=\"datetime\",\n",
    "           tools=\"box_select,xpan,xwheel_zoom,reset,save\", height=400)\n",
    "\n",
    "p.yaxis[0].formatter = NumeralTickFormatter(format=\"00:00:00\")\n",
    "\n",
    "p.extra_y_ranges = {\"occurences\": Range1d(start=0, end=toilet_occurences_by_night.max())}\n",
    "p.add_layout(LinearAxis(y_range_name=\"occurences\"), 'right')\n",
    "\n",
    "p.line(duration_spend_in_toilet_by_night.index, (duration_spend_in_toilet_by_night / np.timedelta64(1, 's')).values)\n",
    "\n",
    "p.line(toilet_occurences_by_night.index, toilet_occurences_by_night.values, color=\"Red\", y_range_name=\"occurences\")\n",
    "# p.segment(x0=fall_days, y0=5,\n",
    "#           x1=fall_days + timedelta(days=1), y1=5, line_width=10, legend=\"Falls\", color='red')\n",
    "\n",
    "show(p)"
   ]
  },
  {
   "cell_type": "markdown",
   "metadata": {},
   "source": [
    "# Kitchen"
   ]
  },
  {
   "cell_type": "code",
   "execution_count": null,
   "metadata": {
    "collapsed": true,
    "scrolled": true
   },
   "outputs": [],
   "source": [
    "def kitchen_duration_estimator(my_day):\n",
    "    in_kitchen = my_day[my_day.activity.isin(['Eat Meal', 'Cook Meal'])]\n",
    "    time_spend_in_kitchen = in_kitchen.reset_index().apply(lambda x: x.date - x.since, axis=1)\n",
    "    if time_spend_in_kitchen.empty:\n",
    "        return timedelta(seconds=0)\n",
    "    return time_spend_in_kitchen.sum()\n",
    "\n",
    "def kitchen_count_estimator(my_day):\n",
    "    in_kitchen = my_day[my_day.activity.isin(['Eat Meal', 'Cook Meal'])]\n",
    "    return in_kitchen.count()\n",
    "\n",
    "a = activities.loc['J']\n",
    "duration_spend_in_kitchen = a.resample(\"D\", how=kitchen_duration_estimator).activity\n",
    "duration_spend_in_kitchen\n",
    "\n",
    "max_bound = duration_spend_in_kitchen[duration_spend_in_kitchen != 0].quantile(.9)\n",
    "duration_spend_in_kitchen.loc[duration_spend_in_kitchen > max_bound] = max_bound\n",
    "\n",
    "kitchen_occurences = a.resample(\"D\", how=kitchen_count_estimator).activity\n",
    "kitchen_occurences\n",
    "\n",
    "max_bound = kitchen_occurences[kitchen_occurences != 0].quantile(.9)\n",
    "kitchen_occurences.loc[kitchen_occurences > max_bound] = max_bound"
   ]
  },
  {
   "cell_type": "code",
   "execution_count": null,
   "metadata": {
    "collapsed": true
   },
   "outputs": [],
   "source": [
    "from bokeh.plotting import figure, show\n",
    "from bokeh.models import LinearAxis, Range1d\n",
    "\n",
    "p = figure(title=\"Time spent in kitchen per day\", x_axis_label='Day', y_axis_label='Kitchen time',\n",
    "           x_axis_type=\"datetime\",\n",
    "           tools=\"box_select,xpan,xwheel_zoom,reset,save\", height=400)\n",
    "\n",
    "p.yaxis[0].formatter = NumeralTickFormatter(format=\"00:00:00\")\n",
    "\n",
    "p.extra_y_ranges = {\"occurences\": Range1d(start=0, end=kitchen_occurences.max())}\n",
    "p.add_layout(LinearAxis(y_range_name=\"occurences\"), 'right')\n",
    "\n",
    "p.line(duration_spend_in_kitchen.index, (duration_spend_in_kitchen / np.timedelta64(1, 's')).values)\n",
    "\n",
    "p.line(kitchen_occurences.index, kitchen_occurences.values, color=\"Red\", y_range_name=\"occurences\")\n",
    "# p.segment(x0=fall_days, y0=5,\n",
    "#           x1=fall_days + timedelta(days=1), y1=5, line_width=10, legend=\"Falls\", color='red')\n",
    "\n",
    "show(p)"
   ]
  },
  {
   "cell_type": "markdown",
   "metadata": {},
   "source": [
    "# Sleeping"
   ]
  },
  {
   "cell_type": "code",
   "execution_count": null,
   "metadata": {
    "collapsed": true,
    "scrolled": true
   },
   "outputs": [],
   "source": [
    "def sleeping_duration_estimator(my_day):\n",
    "    sleeping = my_day[my_day.activity == 'Sleep']\n",
    "    time_spend_sleeping = sleeping.reset_index().apply(lambda x: x.date - x.since, axis=1)\n",
    "    if time_spend_sleeping.empty:\n",
    "        return timedelta(seconds=0)\n",
    "    return time_spend_sleeping.sum()\n",
    "\n",
    "def sleeping_count_estimator(my_day):\n",
    "    sleeping = my_day[my_day.activity == 'Sleep']\n",
    "    return sleeping.count()\n",
    "\n",
    "def nap_duration_estimator(my_day):\n",
    "    sleeping = my_day[my_day.activity == 'Nap']\n",
    "    time_spend_sleeping = sleeping.reset_index().apply(lambda x: x.date - x.since, axis=1)\n",
    "    if time_spend_sleeping.empty:\n",
    "        return timedelta(seconds=0)\n",
    "    return time_spend_sleeping.sum()\n",
    "\n",
    "def nap_count_estimator(my_day):\n",
    "    sleeping = my_day[my_day.activity == 'Nap']\n",
    "    return sleeping.count()\n",
    "\n",
    "a = activities.loc['J']\n",
    "duration_spend_sleeping = a.resample(\"D\", how=sleeping_duration_estimator).activity\n",
    "duration_spend_sleeping\n",
    "\n",
    "sleeping_occurences = a.resample(\"D\", how=sleeping_count_estimator).activity\n",
    "sleeping_occurences\n",
    "\n",
    "a = activities.loc['J']\n",
    "duration_spend_nap = a.resample(\"D\", how=nap_duration_estimator).activity\n",
    "duration_spend_nap\n",
    "\n",
    "nap_occurences = a.resample(\"D\", how=nap_count_estimator).activity\n",
    "nap_occurences"
   ]
  },
  {
   "cell_type": "code",
   "execution_count": null,
   "metadata": {
    "collapsed": true
   },
   "outputs": [],
   "source": [
    "sleep_df = pd.DataFrame(data={'nap': duration_spend_nap.values, 'sleep': duration_spend_sleeping.values},\n",
    "                        index=duration_spend_nap.index)"
   ]
  },
  {
   "cell_type": "code",
   "execution_count": null,
   "metadata": {
    "collapsed": true
   },
   "outputs": [],
   "source": [
    "def stacked(df, categories):\n",
    "    areas = dict()\n",
    "    last = np.zeros(len(df[categories[0]]))\n",
    "    for cat in categories:\n",
    "#         print(last, df[cat])\n",
    "        next = last + df[cat] / np.timedelta64(1, 's')\n",
    "        areas[cat] = np.hstack((last[::-1], next))\n",
    "        last = next\n",
    "    return areas"
   ]
  },
  {
   "cell_type": "code",
   "execution_count": null,
   "metadata": {
    "collapsed": true,
    "scrolled": true
   },
   "outputs": [],
   "source": [
    "brewer['Spectral'][8]"
   ]
  },
  {
   "cell_type": "code",
   "execution_count": null,
   "metadata": {
    "collapsed": true
   },
   "outputs": [],
   "source": [
    "from bokeh.palettes import brewer\n",
    "\n",
    "p = figure(title=\"Time spent sleeping per day\", x_axis_label='Day', y_axis_label='Sleeping time',\n",
    "           x_axis_type=\"datetime\",\n",
    "           tools=\"box_select,xpan,xwheel_zoom,reset,save\", height=400)\n",
    "\n",
    "# p.extra_y_ranges = {\"occurences\": Range1d(start=0, end=sleeping_occurences.max())}\n",
    "# p.add_layout(LinearAxis(y_range_name=\"occurences\"), 'right')\n",
    "\n",
    "p.yaxis[0].formatter = NumeralTickFormatter(format=\"00:00:00\")\n",
    "\n",
    "x2 = np.hstack((sleep_df.index[::-1], sleep_df.index))\n",
    "\n",
    "categories = ['nap', 'sleep']\n",
    "areas = stacked(sleep_df, categories)\n",
    "\n",
    "colors = ['#fee08b', '#fdae61']\n",
    "\n",
    "p.patches([x2] * len(areas), [areas[cat] for cat in categories],\n",
    "          color=colors, alpha=0.8, line_color=None)\n",
    "\n",
    "# p.line(duration_spend_sleeping.index, (duration_spend_sleeping / np.timedelta64(1, 's')).values)\n",
    "\n",
    "# p.line(sleeping_occurences.index, sleeping_occurences.values, color=\"Red\", y_range_name=\"occurences\")\n",
    "\n",
    "show(p)"
   ]
  },
  {
   "cell_type": "markdown",
   "metadata": {},
   "source": [
    "# Active"
   ]
  },
  {
   "cell_type": "code",
   "execution_count": null,
   "metadata": {
    "collapsed": true,
    "scrolled": true
   },
   "outputs": [],
   "source": [
    "def active_duration_estimator(my_day):\n",
    "    active = my_day[~my_day.activity.isin(['Go Out', 'Sleep', 'Nap', 'Inactive'])]\n",
    "    time_spend_active = active.reset_index().apply(lambda x: x.date - x.since, axis=1)\n",
    "    if time_spend_active.empty:\n",
    "        return timedelta(seconds=0)\n",
    "    return time_spend_active.sum()\n",
    "\n",
    "a = activities.loc['J']\n",
    "duration_active = a.resample(\"D\", how=active_duration_estimator).activity\n",
    "duration_active\n",
    "\n",
    "max_bound = duration_active[duration_active != 0].quantile(.9)\n",
    "duration_active.loc[duration_active > max_bound] = max_bound"
   ]
  },
  {
   "cell_type": "code",
   "execution_count": null,
   "metadata": {
    "collapsed": true
   },
   "outputs": [],
   "source": [
    "from bokeh.plotting import figure, show\n",
    "\n",
    "p = figure(title=\"Time spent being active per day\", x_axis_label='Day', y_axis_label='Active time',\n",
    "           x_axis_type=\"datetime\",\n",
    "           tools=\"box_select,xpan,xwheel_zoom,reset,save\", height=400)\n",
    "\n",
    "p.yaxis[0].formatter = NumeralTickFormatter(format=\"00:00:00\")\n",
    "\n",
    "p.line(duration_active.index, (duration_active / np.timedelta64(1, 's')).values)\n",
    "# p.segment(x0=fall_days, y0=5,\n",
    "#           x1=fall_days + timedelta(days=1), y1=5, line_width=10, legend=\"Falls\", color='red')\n",
    "\n",
    "show(p)"
   ]
  },
  {
   "cell_type": "markdown",
   "metadata": {},
   "source": [
    "## Changing rooms"
   ]
  },
  {
   "cell_type": "code",
   "execution_count": null,
   "metadata": {
    "collapsed": true,
    "scrolled": true
   },
   "outputs": [],
   "source": [
    "def change_rooms_estimator(my_day):\n",
    "    e = my_day[my_day.value == \"On\"].copy()\n",
    "    e.loc[:, 'previous_location'] = e.sensor.shift()\n",
    "    e = e[(e.sensor != e.previous_location)]\n",
    "    return e.count()\n",
    "\n",
    "e = events.loc['J']\n",
    "change_rooms = e.resample(\"D\", how=change_rooms_estimator).sensor\n",
    "change_rooms"
   ]
  },
  {
   "cell_type": "code",
   "execution_count": null,
   "metadata": {
    "collapsed": true
   },
   "outputs": [],
   "source": [
    "from bokeh.plotting import figure, show\n",
    "\n",
    "p = figure(title=\"Numer of times changing rooms per day\", x_axis_label='Day', y_axis_label='Changing rooms',\n",
    "           x_axis_type=\"datetime\",\n",
    "           tools=\"box_select,xpan,xwheel_zoom,reset,save\", height=400)\n",
    "\n",
    "p.line(change_rooms.index, change_rooms.values)\n",
    "# p.segment(x0=fall_days, y0=5,\n",
    "#           x1=fall_days + timedelta(days=1), y1=5, line_width=10, legend=\"Falls\", color='red')\n",
    "\n",
    "show(p)"
   ]
  },
  {
   "cell_type": "markdown",
   "metadata": {},
   "source": [
    "# Misc."
   ]
  },
  {
   "cell_type": "code",
   "execution_count": null,
   "metadata": {
    "collapsed": true
   },
   "outputs": [],
   "source": [
    "plot(activities=activities, patients=['J'])"
   ]
  },
  {
   "cell_type": "code",
   "execution_count": null,
   "metadata": {
    "collapsed": true
   },
   "outputs": [],
   "source": [
    "events.loc['J']"
   ]
  },
  {
   "cell_type": "code",
   "execution_count": null,
   "metadata": {
    "collapsed": true
   },
   "outputs": [],
   "source": [
    "plot(events=events.head(1000))"
   ]
  }
 ],
 "metadata": {
  "kernelspec": {
   "display_name": "Python 2",
   "language": "python",
   "name": "python2"
  },
  "language_info": {
   "codemirror_mode": {
    "name": "ipython",
    "version": 2
   },
   "file_extension": ".py",
   "mimetype": "text/x-python",
   "name": "python",
   "nbconvert_exporter": "python",
   "pygments_lexer": "ipython2",
   "version": "2.7.10"
  }
 },
 "nbformat": 4,
 "nbformat_minor": 1
}
