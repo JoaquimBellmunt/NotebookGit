{
 "cells": [
  {
   "cell_type": "markdown",
   "metadata": {},
   "source": [
    "# Quality of life, MCI metrics"
   ]
  },
  {
   "cell_type": "markdown",
   "metadata": {},
   "source": [
    "## Measure change of life behaviours\n",
    "\n",
    "* Activities of Daily Living\n",
    "* Mobility\n",
    "* Sociability\n",
    "* *Cognition* (not measured)"
   ]
  },
  {
   "cell_type": "code",
   "execution_count": 1,
   "metadata": {
    "collapsed": true
   },
   "outputs": [],
   "source": [
    "%load_ext autoreload\n",
    "%autoreload 2"
   ]
  },
  {
   "cell_type": "code",
   "execution_count": 2,
   "metadata": {
    "collapsed": false
   },
   "outputs": [],
   "source": [
    "from reasoning.presets.dataset import load_default_datasets"
   ]
  },
  {
   "cell_type": "code",
   "execution_count": 3,
   "metadata": {
    "collapsed": false
   },
   "outputs": [
    {
     "data": {
      "text/html": [
       "\n",
       "    <div class=\"bk-banner\">\n",
       "        <a href=\"http://bokeh.pydata.org\" target=\"_blank\" class=\"bk-logo bk-logo-small bk-logo-notebook\"></a>\n",
       "        <span id=\"a05b8696-67cc-4d70-88b5-457109f0013a\">Loading BokehJS ...</span>\n",
       "    </div>"
      ]
     },
     "metadata": {},
     "output_type": "display_data"
    },
    {
     "data": {
      "application/javascript": [
       "\n",
       "(function(global) {\n",
       "  function now() {\n",
       "    return new Date();\n",
       "  }\n",
       "\n",
       "  if (typeof (window._bokeh_onload_callbacks) === \"undefined\") {\n",
       "    window._bokeh_onload_callbacks = [];\n",
       "  }\n",
       "\n",
       "  function run_callbacks() {\n",
       "    window._bokeh_onload_callbacks.forEach(function(callback) { callback() });\n",
       "    delete window._bokeh_onload_callbacks\n",
       "    console.info(\"Bokeh: all callbacks have finished\");\n",
       "  }\n",
       "\n",
       "  function load_libs(js_urls, callback) {\n",
       "    window._bokeh_onload_callbacks.push(callback);\n",
       "    if (window._bokeh_is_loading > 0) {\n",
       "      console.log(\"Bokeh: BokehJS is being loaded, scheduling callback at\", now());\n",
       "      return null;\n",
       "    }\n",
       "    if (js_urls == null || js_urls.length === 0) {\n",
       "      run_callbacks();\n",
       "      return null;\n",
       "    }\n",
       "    console.log(\"Bokeh: BokehJS not loaded, scheduling load and callback at\", now());\n",
       "    window._bokeh_is_loading = js_urls.length;\n",
       "    for (var i = 0; i < js_urls.length; i++) {\n",
       "      var url = js_urls[i];\n",
       "      var s = document.createElement('script');\n",
       "      s.src = url;\n",
       "      s.async = false;\n",
       "      s.onreadystatechange = s.onload = function() {\n",
       "        window._bokeh_is_loading--;\n",
       "        if (window._bokeh_is_loading === 0) {\n",
       "          console.log(\"Bokeh: all BokehJS libraries loaded\");\n",
       "          run_callbacks()\n",
       "        }\n",
       "      };\n",
       "      s.onerror = function() {\n",
       "        console.warn(\"failed to load library \" + url);\n",
       "      };\n",
       "      console.log(\"Bokeh: injecting script tag for BokehJS library: \", url);\n",
       "      document.getElementsByTagName(\"head\")[0].appendChild(s);\n",
       "    }\n",
       "  };\n",
       "\n",
       "  var js_urls = ['https://cdn.pydata.org/bokeh/release/bokeh-0.11.1.min.js', 'https://cdn.pydata.org/bokeh/release/bokeh-widgets-0.11.1.min.js', 'https://cdn.pydata.org/bokeh/release/bokeh-compiler-0.11.1.min.js'];\n",
       "\n",
       "  var inline_js = [\n",
       "    function(Bokeh) {\n",
       "      Bokeh.set_log_level(\"info\");\n",
       "    },\n",
       "    \n",
       "    function(Bokeh) {\n",
       "      Bokeh.$(\"#a05b8696-67cc-4d70-88b5-457109f0013a\").text(\"BokehJS successfully loaded\");\n",
       "    },\n",
       "    function(Bokeh) {\n",
       "      console.log(\"Bokeh: injecting CSS: https://cdn.pydata.org/bokeh/release/bokeh-0.11.1.min.css\");\n",
       "      Bokeh.embed.inject_css(\"https://cdn.pydata.org/bokeh/release/bokeh-0.11.1.min.css\");\n",
       "      console.log(\"Bokeh: injecting CSS: https://cdn.pydata.org/bokeh/release/bokeh-widgets-0.11.1.min.css\");\n",
       "      Bokeh.embed.inject_css(\"https://cdn.pydata.org/bokeh/release/bokeh-widgets-0.11.1.min.css\");\n",
       "    }\n",
       "  ];\n",
       "\n",
       "  function run_inline_js() {\n",
       "    for (var i = 0; i < inline_js.length; i++) {\n",
       "      inline_js[i](window.Bokeh);\n",
       "    }\n",
       "  }\n",
       "\n",
       "  if (window._bokeh_is_loading === 0) {\n",
       "    console.log(\"Bokeh: BokehJS loaded, going straight to plotting\");\n",
       "    run_inline_js();\n",
       "  } else {\n",
       "    load_libs(js_urls, function() {\n",
       "      console.log(\"Bokeh: BokehJS plotting callback run at\", now());\n",
       "      run_inline_js();\n",
       "    });\n",
       "  }\n",
       "}(this));"
      ]
     },
     "metadata": {},
     "output_type": "display_data"
    }
   ],
   "source": [
    "import pandas as pd\n",
    "import numpy as np\n",
    "\n",
    "from bokeh.plotting import output_notebook\n",
    "\n",
    "from reasoning.data_analysis.data_viz import plot\n",
    "from reasoning.data_analysis.update_csv import full_csv_update\n",
    "from reasoning.data_analysis.data_toolbox import load_activities, load_events, load_groundtruth\n",
    "from reasoning.presets.dataset import load_default_datasets\n",
    "\n",
    "from datetime import timedelta\n",
    "\n",
    "output_notebook()"
   ]
  },
  {
   "cell_type": "code",
   "execution_count": 8,
   "metadata": {
    "collapsed": false
   },
   "outputs": [
    {
     "name": "stdout",
     "output_type": "stream",
     "text": [
      "Loading events...\n",
      "Loading activities...\n",
      "Cleaning up events...\n",
      "Cleaning up activities...\n",
      "To choose patients from N\n",
      "{'A': (11, None, None), 'C': (13, None, None), 'B': (12, None, None), 'E': (15, None, None), 'D': (14, None, None)}\n",
      "Updated patients\n",
      "Updated activities\n",
      "Renamed activities\n",
      "Loading events...\n",
      "Loading activities...\n",
      "Cleaning up events...\n",
      "Cleaning up activities...\n",
      "To choose patients from E\n",
      "{'A': (34, None, None), 'C': (21, None, None), 'B': (20, None, None), 'E': (23, None, None), 'D': (22, None, None)}\n",
      "Updated patients\n",
      "Updated activities\n",
      "Renamed activities\n"
     ]
    }
   ],
   "source": [
    "# events, activities, groundtruth = load_default_datasets(update_csv_files=True)\n",
    "\n",
    "path_to_dataset_E = '../new_dataset/Dataset-Extend'\n",
    "path_to_dataset_N = '../new_dataset/Dataset-Normandie'\n",
    "\n",
    "events_N, activities_N = load_default_datasets(update_csv_files=False,\n",
    "                    path=path_to_dataset_N,\n",
    "                    event_dataset='public.event.csv',\n",
    "                    activity_dataset='public.activity.csv',\n",
    "                    delim=',',\n",
    "                    patients='N')\n",
    "events_E, activities_E = load_default_datasets(update_csv_files=False,\n",
    "                    path=path_to_dataset_E,\n",
    "                    event_dataset='public.event.csv',\n",
    "                    activity_dataset='public.activity.csv',\n",
    "                    delim=';',\n",
    "                    patients='E')"
   ]
  },
  {
   "cell_type": "code",
   "execution_count": 15,
   "metadata": {
    "collapsed": false
   },
   "outputs": [
    {
     "data": {
      "text/html": [
       "<div>\n",
       "<table border=\"1\" class=\"dataframe\">\n",
       "  <thead>\n",
       "    <tr style=\"text-align: right;\">\n",
       "      <th></th>\n",
       "      <th></th>\n",
       "      <th>id</th>\n",
       "      <th>createdAt</th>\n",
       "      <th>updatedAt</th>\n",
       "      <th>sensor</th>\n",
       "      <th>value</th>\n",
       "    </tr>\n",
       "    <tr>\n",
       "      <th>patient</th>\n",
       "      <th>date</th>\n",
       "      <th></th>\n",
       "      <th></th>\n",
       "      <th></th>\n",
       "      <th></th>\n",
       "      <th></th>\n",
       "    </tr>\n",
       "  </thead>\n",
       "  <tbody>\n",
       "    <tr>\n",
       "      <th rowspan=\"5\" valign=\"top\">E</th>\n",
       "      <th>2017-01-11 13:07:06</th>\n",
       "      <td>793703</td>\n",
       "      <td>2017-01-11 14:07:07+01</td>\n",
       "      <td>2017-01-11 14:07:07+01</td>\n",
       "      <td>Bathroom Motion</td>\n",
       "      <td>On</td>\n",
       "    </tr>\n",
       "    <tr>\n",
       "      <th>2017-01-11 13:07:13</th>\n",
       "      <td>793704</td>\n",
       "      <td>2017-01-11 14:07:14+01</td>\n",
       "      <td>2017-01-11 14:07:14+01</td>\n",
       "      <td>Bathroom Motion</td>\n",
       "      <td>On</td>\n",
       "    </tr>\n",
       "    <tr>\n",
       "      <th>2017-01-11 13:08:15</th>\n",
       "      <td>793705</td>\n",
       "      <td>2017-01-11 14:08:16+01</td>\n",
       "      <td>2017-01-11 14:08:16+01</td>\n",
       "      <td>Bathroom Motion</td>\n",
       "      <td>Off</td>\n",
       "    </tr>\n",
       "    <tr>\n",
       "      <th>2017-01-11 13:27:15</th>\n",
       "      <td>793706</td>\n",
       "      <td>2017-01-11 14:27:17+01</td>\n",
       "      <td>2017-01-11 14:27:17+01</td>\n",
       "      <td>Bedroom Motion</td>\n",
       "      <td>On</td>\n",
       "    </tr>\n",
       "    <tr>\n",
       "      <th>2017-01-11 13:28:21</th>\n",
       "      <td>793707</td>\n",
       "      <td>2017-01-11 14:28:22+01</td>\n",
       "      <td>2017-01-11 14:28:22+01</td>\n",
       "      <td>Bedroom Motion</td>\n",
       "      <td>Off</td>\n",
       "    </tr>\n",
       "  </tbody>\n",
       "</table>\n",
       "</div>"
      ],
      "text/plain": [
       "                                 id               createdAt  \\\n",
       "patient date                                                  \n",
       "E       2017-01-11 13:07:06  793703  2017-01-11 14:07:07+01   \n",
       "        2017-01-11 13:07:13  793704  2017-01-11 14:07:14+01   \n",
       "        2017-01-11 13:08:15  793705  2017-01-11 14:08:16+01   \n",
       "        2017-01-11 13:27:15  793706  2017-01-11 14:27:17+01   \n",
       "        2017-01-11 13:28:21  793707  2017-01-11 14:28:22+01   \n",
       "\n",
       "                                          updatedAt           sensor value  \n",
       "patient date                                                                \n",
       "E       2017-01-11 13:07:06  2017-01-11 14:07:07+01  Bathroom Motion    On  \n",
       "        2017-01-11 13:07:13  2017-01-11 14:07:14+01  Bathroom Motion    On  \n",
       "        2017-01-11 13:08:15  2017-01-11 14:08:16+01  Bathroom Motion   Off  \n",
       "        2017-01-11 13:27:15  2017-01-11 14:27:17+01   Bedroom Motion    On  \n",
       "        2017-01-11 13:28:21  2017-01-11 14:28:22+01   Bedroom Motion   Off  "
      ]
     },
     "execution_count": 15,
     "metadata": {},
     "output_type": "execute_result"
    }
   ],
   "source": [
    "events_N.tail()"
   ]
  },
  {
   "cell_type": "code",
   "execution_count": 19,
   "metadata": {
    "collapsed": false
   },
   "outputs": [
    {
     "name": "stdout",
     "output_type": "stream",
     "text": [
      "((86242, 5), (427651, 5))\n",
      "(513893, 5)\n"
     ]
    },
    {
     "data": {
      "text/html": [
       "<div>\n",
       "<table border=\"1\" class=\"dataframe\">\n",
       "  <thead>\n",
       "    <tr style=\"text-align: right;\">\n",
       "      <th></th>\n",
       "      <th></th>\n",
       "      <th>id</th>\n",
       "      <th>createdAt</th>\n",
       "      <th>updatedAt</th>\n",
       "      <th>sensor</th>\n",
       "      <th>value</th>\n",
       "    </tr>\n",
       "    <tr>\n",
       "      <th>patient</th>\n",
       "      <th>date</th>\n",
       "      <th></th>\n",
       "      <th></th>\n",
       "      <th></th>\n",
       "      <th></th>\n",
       "      <th></th>\n",
       "    </tr>\n",
       "  </thead>\n",
       "  <tbody>\n",
       "    <tr>\n",
       "      <th rowspan=\"5\" valign=\"top\">B</th>\n",
       "      <th>2017-01-11 14:26:40</th>\n",
       "      <td>315611</td>\n",
       "      <td>2017-01-11 14:26:41+00</td>\n",
       "      <td>2017-01-11 14:26:41+00</td>\n",
       "      <td>Bathroom Motion</td>\n",
       "      <td>Off</td>\n",
       "    </tr>\n",
       "    <tr>\n",
       "      <th>2017-01-11 14:26:54</th>\n",
       "      <td>315615</td>\n",
       "      <td>2017-01-11 14:26:55+00</td>\n",
       "      <td>2017-01-11 14:26:55+00</td>\n",
       "      <td>Bathroom Motion</td>\n",
       "      <td>On</td>\n",
       "    </tr>\n",
       "    <tr>\n",
       "      <th>2017-01-11 14:26:59</th>\n",
       "      <td>315616</td>\n",
       "      <td>2017-01-11 14:26:59+00</td>\n",
       "      <td>2017-01-11 14:26:59+00</td>\n",
       "      <td>Bathroom Motion</td>\n",
       "      <td>On</td>\n",
       "    </tr>\n",
       "    <tr>\n",
       "      <th>2017-01-11 14:27:01</th>\n",
       "      <td>315618</td>\n",
       "      <td>2017-01-11 14:27:01+00</td>\n",
       "      <td>2017-01-11 14:27:01+00</td>\n",
       "      <td>Bathroom Motion</td>\n",
       "      <td>On</td>\n",
       "    </tr>\n",
       "    <tr>\n",
       "      <th>2017-01-11 14:27:38</th>\n",
       "      <td>315622</td>\n",
       "      <td>2017-01-11 14:27:38+00</td>\n",
       "      <td>2017-01-11 14:27:38+00</td>\n",
       "      <td>Bathroom Motion</td>\n",
       "      <td>On</td>\n",
       "    </tr>\n",
       "  </tbody>\n",
       "</table>\n",
       "</div>"
      ],
      "text/plain": [
       "                                 id               createdAt  \\\n",
       "patient date                                                  \n",
       "B       2017-01-11 14:26:40  315611  2017-01-11 14:26:41+00   \n",
       "        2017-01-11 14:26:54  315615  2017-01-11 14:26:55+00   \n",
       "        2017-01-11 14:26:59  315616  2017-01-11 14:26:59+00   \n",
       "        2017-01-11 14:27:01  315618  2017-01-11 14:27:01+00   \n",
       "        2017-01-11 14:27:38  315622  2017-01-11 14:27:38+00   \n",
       "\n",
       "                                          updatedAt           sensor value  \n",
       "patient date                                                                \n",
       "B       2017-01-11 14:26:40  2017-01-11 14:26:41+00  Bathroom Motion   Off  \n",
       "        2017-01-11 14:26:54  2017-01-11 14:26:55+00  Bathroom Motion    On  \n",
       "        2017-01-11 14:26:59  2017-01-11 14:26:59+00  Bathroom Motion    On  \n",
       "        2017-01-11 14:27:01  2017-01-11 14:27:01+00  Bathroom Motion    On  \n",
       "        2017-01-11 14:27:38  2017-01-11 14:27:38+00  Bathroom Motion    On  "
      ]
     },
     "execution_count": 19,
     "metadata": {},
     "output_type": "execute_result"
    }
   ],
   "source": [
    "print(events_E.shape, events_N.shape)\n",
    "\n",
    "merged = pd.concat([events_E, events_N])\n",
    "\n",
    "print(merged.shape)\n",
    "merged.head()\n"
   ]
  },
  {
   "cell_type": "markdown",
   "metadata": {},
   "source": [
    "## Energy rate"
   ]
  },
  {
   "cell_type": "code",
   "execution_count": null,
   "metadata": {
    "collapsed": true,
    "scrolled": true
   },
   "outputs": [],
   "source": [
    "events.reset_index(level=0, drop=True)"
   ]
  },
  {
   "cell_type": "code",
   "execution_count": null,
   "metadata": {
    "collapsed": true
   },
   "outputs": [],
   "source": [
    "events.loc['C']"
   ]
  },
  {
   "cell_type": "code",
   "execution_count": null,
   "metadata": {
    "collapsed": true,
    "scrolled": true
   },
   "outputs": [],
   "source": [
    "# TODO: Make it work as groupby\n",
    "\n",
    "def aggregate_events(events):\n",
    "    aggregated_events = events.reset_index(level=0, drop=True).value.resample('D', how='count')\n",
    "    aggregated_events = aggregated_events[aggregated_events != 0]\n",
    "    min_events, max_events = min(aggregated_events), max(aggregated_events)\n",
    "    aggregated_events = aggregated_events * 100 / max_events\n",
    "    return aggregated_events\n",
    "\n",
    "events.groupby(level=0).apply(aggregate_events)"
   ]
  },
  {
   "cell_type": "code",
   "execution_count": null,
   "metadata": {
    "collapsed": true,
    "scrolled": true
   },
   "outputs": [],
   "source": [
    "aggregated_events = events.loc['C'].value.resample('D', how='count')\n",
    "min_events, max_events = min(aggregated_events), max(aggregated_events)\n",
    "aggregated_events = aggregated_events * 100 / max_events\n",
    "aggregated_events"
   ]
  },
  {
   "cell_type": "code",
   "execution_count": null,
   "metadata": {
    "collapsed": true,
    "scrolled": true
   },
   "outputs": [],
   "source": [
    "def custom(my_day):\n",
    "    a = my_day.copy()\n",
    "    a.loc[:, 'duration'] = a.index - a.since\n",
    "    falls = a[(a.activity == \"Fall\") & (a.duration >= timedelta(minutes=5))]\n",
    "    return not falls.empty\n",
    "\n",
    "a = activities.loc['C']\n",
    "fall_per_day = a.resample('D', how=custom).activity\n",
    "fall_days = fall_per_day[fall_per_day].index"
   ]
  },
  {
   "cell_type": "code",
   "execution_count": null,
   "metadata": {
    "collapsed": true
   },
   "outputs": [],
   "source": [
    "from bokeh.plotting import figure, show\n",
    "\n",
    "p = figure(title=\"Amount of activity per day\", x_axis_label='Day', y_axis_label='Events', x_axis_type=\"datetime\",\n",
    "          tools=\"box_select,xpan,xwheel_zoom,reset,save\", height=400)\n",
    "\n",
    "p.line(aggregated_events.index, aggregated_events.values)\n",
    "p.segment(x0=fall_days, y0=5,\n",
    "          x1=fall_days + timedelta(days=1), y1=5, line_width=10, legend=\"Falls\", color='red')\n",
    "\n",
    "show(p)"
   ]
  },
  {
   "cell_type": "markdown",
   "metadata": {},
   "source": [
    "## Time outdoor / Time indoor"
   ]
  },
  {
   "cell_type": "code",
   "execution_count": null,
   "metadata": {
    "collapsed": true
   },
   "outputs": [],
   "source": [
    "activities.loc['I'].activity.unique()"
   ]
  },
  {
   "cell_type": "code",
   "execution_count": null,
   "metadata": {
    "collapsed": true,
    "scrolled": true
   },
   "outputs": [],
   "source": [
    "def outside_time_estimator(my_day):\n",
    "    outside = my_day[my_day.activity == \"Go Out\"]\n",
    "    time_spend_outside = outside.reset_index().apply(lambda x: x.date - x.since, axis=1)\n",
    "    if time_spend_outside.empty:\n",
    "        return timedelta(seconds=0)\n",
    "    return time_spend_outside.sum()\n",
    "\n",
    "a = activities.loc['J']\n",
    "time_spend_outside = a.resample(\"D\", how=outside_time_estimator).activity\n",
    "time_spend_outside\n",
    "\n",
    "max_bound = time_spend_outside[time_spend_outside != 0].quantile(.9)\n",
    "time_spend_outside.loc[time_spend_outside > max_bound] = max_bound"
   ]
  },
  {
   "cell_type": "code",
   "execution_count": null,
   "metadata": {
    "collapsed": true
   },
   "outputs": [],
   "source": [
    "from bokeh.plotting import figure, show\n",
    "\n",
    "p = figure(title=\"Time spent outside per day\", x_axis_label='Day', y_axis_label='Outside time',\n",
    "           x_axis_type=\"datetime\",\n",
    "           tools=\"box_select,xpan,xwheel_zoom,reset,save\", height=400)\n",
    "\n",
    "p.yaxis[0].formatter = NumeralTickFormatter(format=\"00:00:00\")\n",
    "\n",
    "p.line(time_spend_outside.index, (time_spend_outside / np.timedelta64(1, 's')).values)\n",
    "# p.segment(x0=fall_days, y0=5,\n",
    "#           x1=fall_days + timedelta(days=1), y1=5, line_width=10, legend=\"Falls\", color='red')\n",
    "\n",
    "show(p)"
   ]
  },
  {
   "cell_type": "markdown",
   "metadata": {},
   "source": [
    "# Time spent in bathroom"
   ]
  },
  {
   "cell_type": "code",
   "execution_count": null,
   "metadata": {
    "collapsed": true,
    "scrolled": true
   },
   "outputs": [],
   "source": [
    "from dateutil.parser import parse\n",
    "\n",
    "def toilet_duration_estimator(my_day):\n",
    "    outside = my_day[my_day.activity == \"Go Toilet\"]\n",
    "    time_spend_outside = outside.reset_index().apply(lambda x: x.date - x.since, axis=1)\n",
    "    if time_spend_outside.empty:\n",
    "        return timedelta(seconds=0)\n",
    "    return time_spend_outside.sum()\n",
    "\n",
    "def toilet_count_estimator(my_day):\n",
    "    outside = my_day[my_day.activity == \"Go Toilet\"]\n",
    "    return outside.count()\n",
    "\n",
    "a = activities.loc['J']\n",
    "duration_spend_in_toilet = a.resample(\"D\", how=toilet_duration_estimator).activity\n",
    "duration_spend_in_toilet\n",
    "\n",
    "max_bound = duration_spend_in_toilet[duration_spend_in_toilet != 0].quantile(.9)\n",
    "duration_spend_in_toilet.loc[duration_spend_in_toilet > max_bound] = max_bound\n",
    "\n",
    "toilet_occurences = a.resample(\"D\", how=toilet_count_estimator).activity\n",
    "toilet_occurences\n",
    "\n",
    "max_bound = toilet_occurences[toilet_occurences != 0].quantile(.9)\n",
    "toilet_occurences.loc[toilet_occurences > max_bound] = max_bound"
   ]
  },
  {
   "cell_type": "code",
   "execution_count": null,
   "metadata": {
    "collapsed": true
   },
   "outputs": [],
   "source": [
    "from bokeh.plotting import figure, show\n",
    "from bokeh.models import LinearAxis, Range1d\n",
    "\n",
    "from bokeh.models.formatters import NumeralTickFormatter\n",
    "\n",
    "p = figure(title=\"Time spent in toilet per day\", x_axis_label='Day', y_axis_label='Toilet time',\n",
    "           x_axis_type=\"datetime\",\n",
    "           tools=\"box_select,xpan,xwheel_zoom,reset,save\", height=400)\n",
    "\n",
    "p.yaxis[0].formatter = NumeralTickFormatter(format=\"00:00:00\")\n",
    "\n",
    "p.extra_y_ranges = {\"occurences\": Range1d(start=0, end=toilet_occurences.max())}\n",
    "p.add_layout(LinearAxis(y_range_name=\"occurences\"), 'right')\n",
    "\n",
    "p.line(duration_spend_in_toilet.index, (duration_spend_in_toilet / np.timedelta64(1, 's')).values)\n",
    "\n",
    "p.line(toilet_occurences.index, toilet_occurences.values, color=\"Red\", y_range_name=\"occurences\")\n",
    "# p.segment(x0=fall_days, y0=5,\n",
    "#           x1=fall_days + timedelta(days=1), y1=5, line_width=10, legend=\"Falls\", color='red')\n",
    "\n",
    "show(p)"
   ]
  },
  {
   "cell_type": "markdown",
   "metadata": {},
   "source": [
    "## Toilet by night"
   ]
  },
  {
   "cell_type": "code",
   "execution_count": null,
   "metadata": {
    "collapsed": true,
    "scrolled": true
   },
   "outputs": [],
   "source": [
    "hours = a.index.get_level_values('date').map(lambda x: x.hour)\n",
    "hours\n",
    "a2 = a[(hours >= 20) | (hours < 10)].copy()\n",
    "a2.loc[:, 'shifted_hours'] = a2.index.get_level_values('date') + timedelta(hours=4)\n",
    "a2.loc[:, 'since'] = a2.since + timedelta(hours=4)\n",
    "a2.reset_index(drop=True, inplace=True)\n",
    "a2.rename(columns={'shifted_hours': 'date'}, inplace=True)\n",
    "a2.set_index('date', inplace=True)\n",
    "\n",
    "max_bound = duration_spend_in_toilet[duration_spend_in_toilet != 0].quantile(.9)\n",
    "duration_spend_in_toilet.loc[duration_spend_in_toilet > max_bound] = max_bound\n",
    "\n",
    "duration_spend_in_toilet_by_night = a2.resample(\"D\", how=toilet_duration_estimator).activity\n",
    "duration_spend_in_toilet_by_night\n",
    "\n",
    "max_bound = duration_spend_in_toilet_by_night[duration_spend_in_toilet_by_night != 0].quantile(.9)\n",
    "duration_spend_in_toilet_by_night.loc[duration_spend_in_toilet_by_night > max_bound] = max_bound\n",
    "\n",
    "toilet_occurences_by_night = a2.resample(\"D\", how=toilet_count_estimator).activity\n",
    "toilet_occurences_by_night\n",
    "\n",
    "max_bound = toilet_occurences_by_night[toilet_occurences_by_night != 0].quantile(.9)\n",
    "toilet_occurences_by_night.loc[toilet_occurences_by_night > max_bound] = max_bound"
   ]
  },
  {
   "cell_type": "code",
   "execution_count": null,
   "metadata": {
    "collapsed": true
   },
   "outputs": [],
   "source": [
    "from bokeh.plotting import figure, show\n",
    "from bokeh.models import LinearAxis, Range1d\n",
    "\n",
    "p = figure(title=\"Time spent in toilet per night\", x_axis_label='Day', y_axis_label='Toilet time',\n",
    "           x_axis_type=\"datetime\",\n",
    "           tools=\"box_select,xpan,xwheel_zoom,reset,save\", height=400)\n",
    "\n",
    "p.yaxis[0].formatter = NumeralTickFormatter(format=\"00:00:00\")\n",
    "\n",
    "p.extra_y_ranges = {\"occurences\": Range1d(start=0, end=toilet_occurences_by_night.max())}\n",
    "p.add_layout(LinearAxis(y_range_name=\"occurences\"), 'right')\n",
    "\n",
    "p.line(duration_spend_in_toilet_by_night.index, (duration_spend_in_toilet_by_night / np.timedelta64(1, 's')).values)\n",
    "\n",
    "p.line(toilet_occurences_by_night.index, toilet_occurences_by_night.values, color=\"Red\", y_range_name=\"occurences\")\n",
    "# p.segment(x0=fall_days, y0=5,\n",
    "#           x1=fall_days + timedelta(days=1), y1=5, line_width=10, legend=\"Falls\", color='red')\n",
    "\n",
    "show(p)"
   ]
  },
  {
   "cell_type": "markdown",
   "metadata": {},
   "source": [
    "# Kitchen"
   ]
  },
  {
   "cell_type": "code",
   "execution_count": null,
   "metadata": {
    "collapsed": true,
    "scrolled": true
   },
   "outputs": [],
   "source": [
    "def kitchen_duration_estimator(my_day):\n",
    "    in_kitchen = my_day[my_day.activity.isin(['Eat Meal', 'Cook Meal'])]\n",
    "    time_spend_in_kitchen = in_kitchen.reset_index().apply(lambda x: x.date - x.since, axis=1)\n",
    "    if time_spend_in_kitchen.empty:\n",
    "        return timedelta(seconds=0)\n",
    "    return time_spend_in_kitchen.sum()\n",
    "\n",
    "def kitchen_count_estimator(my_day):\n",
    "    in_kitchen = my_day[my_day.activity.isin(['Eat Meal', 'Cook Meal'])]\n",
    "    return in_kitchen.count()\n",
    "\n",
    "a = activities.loc['J']\n",
    "duration_spend_in_kitchen = a.resample(\"D\", how=kitchen_duration_estimator).activity\n",
    "duration_spend_in_kitchen\n",
    "\n",
    "max_bound = duration_spend_in_kitchen[duration_spend_in_kitchen != 0].quantile(.9)\n",
    "duration_spend_in_kitchen.loc[duration_spend_in_kitchen > max_bound] = max_bound\n",
    "\n",
    "kitchen_occurences = a.resample(\"D\", how=kitchen_count_estimator).activity\n",
    "kitchen_occurences\n",
    "\n",
    "max_bound = kitchen_occurences[kitchen_occurences != 0].quantile(.9)\n",
    "kitchen_occurences.loc[kitchen_occurences > max_bound] = max_bound"
   ]
  },
  {
   "cell_type": "code",
   "execution_count": null,
   "metadata": {
    "collapsed": true
   },
   "outputs": [],
   "source": [
    "from bokeh.plotting import figure, show\n",
    "from bokeh.models import LinearAxis, Range1d\n",
    "\n",
    "p = figure(title=\"Time spent in kitchen per day\", x_axis_label='Day', y_axis_label='Kitchen time',\n",
    "           x_axis_type=\"datetime\",\n",
    "           tools=\"box_select,xpan,xwheel_zoom,reset,save\", height=400)\n",
    "\n",
    "p.yaxis[0].formatter = NumeralTickFormatter(format=\"00:00:00\")\n",
    "\n",
    "p.extra_y_ranges = {\"occurences\": Range1d(start=0, end=kitchen_occurences.max())}\n",
    "p.add_layout(LinearAxis(y_range_name=\"occurences\"), 'right')\n",
    "\n",
    "p.line(duration_spend_in_kitchen.index, (duration_spend_in_kitchen / np.timedelta64(1, 's')).values)\n",
    "\n",
    "p.line(kitchen_occurences.index, kitchen_occurences.values, color=\"Red\", y_range_name=\"occurences\")\n",
    "# p.segment(x0=fall_days, y0=5,\n",
    "#           x1=fall_days + timedelta(days=1), y1=5, line_width=10, legend=\"Falls\", color='red')\n",
    "\n",
    "show(p)"
   ]
  },
  {
   "cell_type": "markdown",
   "metadata": {},
   "source": [
    "# Sleeping"
   ]
  },
  {
   "cell_type": "code",
   "execution_count": null,
   "metadata": {
    "collapsed": true,
    "scrolled": true
   },
   "outputs": [],
   "source": [
    "def sleeping_duration_estimator(my_day):\n",
    "    sleeping = my_day[my_day.activity == 'Sleep']\n",
    "    time_spend_sleeping = sleeping.reset_index().apply(lambda x: x.date - x.since, axis=1)\n",
    "    if time_spend_sleeping.empty:\n",
    "        return timedelta(seconds=0)\n",
    "    return time_spend_sleeping.sum()\n",
    "\n",
    "def sleeping_count_estimator(my_day):\n",
    "    sleeping = my_day[my_day.activity == 'Sleep']\n",
    "    return sleeping.count()\n",
    "\n",
    "def nap_duration_estimator(my_day):\n",
    "    sleeping = my_day[my_day.activity == 'Nap']\n",
    "    time_spend_sleeping = sleeping.reset_index().apply(lambda x: x.date - x.since, axis=1)\n",
    "    if time_spend_sleeping.empty:\n",
    "        return timedelta(seconds=0)\n",
    "    return time_spend_sleeping.sum()\n",
    "\n",
    "def nap_count_estimator(my_day):\n",
    "    sleeping = my_day[my_day.activity == 'Nap']\n",
    "    return sleeping.count()\n",
    "\n",
    "a = activities.loc['J']\n",
    "duration_spend_sleeping = a.resample(\"D\", how=sleeping_duration_estimator).activity\n",
    "duration_spend_sleeping\n",
    "\n",
    "sleeping_occurences = a.resample(\"D\", how=sleeping_count_estimator).activity\n",
    "sleeping_occurences\n",
    "\n",
    "a = activities.loc['J']\n",
    "duration_spend_nap = a.resample(\"D\", how=nap_duration_estimator).activity\n",
    "duration_spend_nap\n",
    "\n",
    "nap_occurences = a.resample(\"D\", how=nap_count_estimator).activity\n",
    "nap_occurences"
   ]
  },
  {
   "cell_type": "code",
   "execution_count": null,
   "metadata": {
    "collapsed": true
   },
   "outputs": [],
   "source": [
    "sleep_df = pd.DataFrame(data={'nap': duration_spend_nap.values, 'sleep': duration_spend_sleeping.values},\n",
    "                        index=duration_spend_nap.index)"
   ]
  },
  {
   "cell_type": "code",
   "execution_count": null,
   "metadata": {
    "collapsed": true
   },
   "outputs": [],
   "source": [
    "def stacked(df, categories):\n",
    "    areas = dict()\n",
    "    last = np.zeros(len(df[categories[0]]))\n",
    "    for cat in categories:\n",
    "#         print(last, df[cat])\n",
    "        next = last + df[cat] / np.timedelta64(1, 's')\n",
    "        areas[cat] = np.hstack((last[::-1], next))\n",
    "        last = next\n",
    "    return areas"
   ]
  },
  {
   "cell_type": "code",
   "execution_count": null,
   "metadata": {
    "collapsed": true,
    "scrolled": true
   },
   "outputs": [],
   "source": [
    "brewer['Spectral'][8]"
   ]
  },
  {
   "cell_type": "code",
   "execution_count": null,
   "metadata": {
    "collapsed": true
   },
   "outputs": [],
   "source": [
    "from bokeh.palettes import brewer\n",
    "\n",
    "p = figure(title=\"Time spent sleeping per day\", x_axis_label='Day', y_axis_label='Sleeping time',\n",
    "           x_axis_type=\"datetime\",\n",
    "           tools=\"box_select,xpan,xwheel_zoom,reset,save\", height=400)\n",
    "\n",
    "# p.extra_y_ranges = {\"occurences\": Range1d(start=0, end=sleeping_occurences.max())}\n",
    "# p.add_layout(LinearAxis(y_range_name=\"occurences\"), 'right')\n",
    "\n",
    "p.yaxis[0].formatter = NumeralTickFormatter(format=\"00:00:00\")\n",
    "\n",
    "x2 = np.hstack((sleep_df.index[::-1], sleep_df.index))\n",
    "\n",
    "categories = ['nap', 'sleep']\n",
    "areas = stacked(sleep_df, categories)\n",
    "\n",
    "colors = ['#fee08b', '#fdae61']\n",
    "\n",
    "p.patches([x2] * len(areas), [areas[cat] for cat in categories],\n",
    "          color=colors, alpha=0.8, line_color=None)\n",
    "\n",
    "# p.line(duration_spend_sleeping.index, (duration_spend_sleeping / np.timedelta64(1, 's')).values)\n",
    "\n",
    "# p.line(sleeping_occurences.index, sleeping_occurences.values, color=\"Red\", y_range_name=\"occurences\")\n",
    "\n",
    "show(p)"
   ]
  },
  {
   "cell_type": "markdown",
   "metadata": {},
   "source": [
    "# Active"
   ]
  },
  {
   "cell_type": "code",
   "execution_count": null,
   "metadata": {
    "collapsed": true,
    "scrolled": true
   },
   "outputs": [],
   "source": [
    "def active_duration_estimator(my_day):\n",
    "    active = my_day[~my_day.activity.isin(['Go Out', 'Sleep', 'Nap', 'Inactive'])]\n",
    "    time_spend_active = active.reset_index().apply(lambda x: x.date - x.since, axis=1)\n",
    "    if time_spend_active.empty:\n",
    "        return timedelta(seconds=0)\n",
    "    return time_spend_active.sum()\n",
    "\n",
    "a = activities.loc['J']\n",
    "duration_active = a.resample(\"D\", how=active_duration_estimator).activity\n",
    "duration_active\n",
    "\n",
    "max_bound = duration_active[duration_active != 0].quantile(.9)\n",
    "duration_active.loc[duration_active > max_bound] = max_bound"
   ]
  },
  {
   "cell_type": "code",
   "execution_count": null,
   "metadata": {
    "collapsed": true
   },
   "outputs": [],
   "source": [
    "from bokeh.plotting import figure, show\n",
    "\n",
    "p = figure(title=\"Time spent being active per day\", x_axis_label='Day', y_axis_label='Active time',\n",
    "           x_axis_type=\"datetime\",\n",
    "           tools=\"box_select,xpan,xwheel_zoom,reset,save\", height=400)\n",
    "\n",
    "p.yaxis[0].formatter = NumeralTickFormatter(format=\"00:00:00\")\n",
    "\n",
    "p.line(duration_active.index, (duration_active / np.timedelta64(1, 's')).values)\n",
    "# p.segment(x0=fall_days, y0=5,\n",
    "#           x1=fall_days + timedelta(days=1), y1=5, line_width=10, legend=\"Falls\", color='red')\n",
    "\n",
    "show(p)"
   ]
  },
  {
   "cell_type": "markdown",
   "metadata": {},
   "source": [
    "## Changing rooms"
   ]
  },
  {
   "cell_type": "code",
   "execution_count": null,
   "metadata": {
    "collapsed": true,
    "scrolled": true
   },
   "outputs": [],
   "source": [
    "def change_rooms_estimator(my_day):\n",
    "    e = my_day[my_day.value == \"On\"].copy()\n",
    "    e.loc[:, 'previous_location'] = e.sensor.shift()\n",
    "    e = e[(e.sensor != e.previous_location)]\n",
    "    return e.count()\n",
    "\n",
    "e = events.loc['J']\n",
    "change_rooms = e.resample(\"D\", how=change_rooms_estimator).sensor\n",
    "change_rooms"
   ]
  },
  {
   "cell_type": "code",
   "execution_count": null,
   "metadata": {
    "collapsed": true
   },
   "outputs": [],
   "source": [
    "from bokeh.plotting import figure, show\n",
    "\n",
    "p = figure(title=\"Numer of times changing rooms per day\", x_axis_label='Day', y_axis_label='Changing rooms',\n",
    "           x_axis_type=\"datetime\",\n",
    "           tools=\"box_select,xpan,xwheel_zoom,reset,save\", height=400)\n",
    "\n",
    "p.line(change_rooms.index, change_rooms.values)\n",
    "# p.segment(x0=fall_days, y0=5,\n",
    "#           x1=fall_days + timedelta(days=1), y1=5, line_width=10, legend=\"Falls\", color='red')\n",
    "\n",
    "show(p)"
   ]
  },
  {
   "cell_type": "markdown",
   "metadata": {},
   "source": [
    "# Misc."
   ]
  },
  {
   "cell_type": "code",
   "execution_count": null,
   "metadata": {
    "collapsed": true
   },
   "outputs": [],
   "source": [
    "plot(activities=activities, patients=['J'])"
   ]
  },
  {
   "cell_type": "code",
   "execution_count": null,
   "metadata": {
    "collapsed": true
   },
   "outputs": [],
   "source": [
    "events.loc['J']"
   ]
  },
  {
   "cell_type": "code",
   "execution_count": null,
   "metadata": {
    "collapsed": true
   },
   "outputs": [],
   "source": [
    "plot(events=events.head(1000))"
   ]
  }
 ],
 "metadata": {
  "kernelspec": {
   "display_name": "Python 2",
   "language": "python",
   "name": "python2"
  },
  "language_info": {
   "codemirror_mode": {
    "name": "ipython",
    "version": 2
   },
   "file_extension": ".py",
   "mimetype": "text/x-python",
   "name": "python",
   "nbconvert_exporter": "python",
   "pygments_lexer": "ipython2",
   "version": "2.7.10"
  }
 },
 "nbformat": 4,
 "nbformat_minor": 1
}
